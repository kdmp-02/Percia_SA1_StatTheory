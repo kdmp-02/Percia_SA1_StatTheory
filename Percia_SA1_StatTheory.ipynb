{
 "cells": [
  {
   "cell_type": "markdown",
   "id": "9a513cf5-0174-4fbd-9995-425cbbc5c5e4",
   "metadata": {},
   "source": [
    "### Summative Assessment 1"
   ]
  },
  {
   "cell_type": "markdown",
   "id": "1814a194-0fa2-4b8f-9b6a-509f2a1b7277",
   "metadata": {},
   "source": [
    "A study was undertaken to compare the mean time spent on cell phones by male and female college students per week. 50 male and 50 female students were selected from Midwestern University and the number of hours per week spent talking on their cell phones determined. The result in hours are shown in Table 10.6. It is desired to test H_0 : μ_1 = μ_2 versuse H_1 : μ_1 =/ μ_2 based on these samples."
   ]
  },
  {
   "cell_type": "markdown",
   "id": "9c3d8f27-83ce-4be1-b3aa-f6f9f12214f3",
   "metadata": {},
   "source": [
    "**Table 10.6 Hours spent talking on cell phone for males and females at Midwestern University**"
   ]
  },
  {
   "cell_type": "code",
   "execution_count": 28,
   "id": "a89e33d8-4d26-4567-8b86-40545dd6e260",
   "metadata": {},
   "outputs": [
    {
     "data": {
      "text/html": [
       "<div>\n",
       "<style scoped>\n",
       "    .dataframe tbody tr th:only-of-type {\n",
       "        vertical-align: middle;\n",
       "    }\n",
       "\n",
       "    .dataframe tbody tr th {\n",
       "        vertical-align: top;\n",
       "    }\n",
       "\n",
       "    .dataframe thead th {\n",
       "        text-align: right;\n",
       "    }\n",
       "</style>\n",
       "<table border=\"1\" class=\"dataframe\">\n",
       "  <thead>\n",
       "    <tr style=\"text-align: right;\">\n",
       "      <th></th>\n",
       "      <th>Males</th>\n",
       "      <th>Females</th>\n",
       "    </tr>\n",
       "  </thead>\n",
       "  <tbody>\n",
       "    <tr>\n",
       "      <th>0</th>\n",
       "      <td>12</td>\n",
       "      <td>11</td>\n",
       "    </tr>\n",
       "    <tr>\n",
       "      <th>1</th>\n",
       "      <td>7</td>\n",
       "      <td>10</td>\n",
       "    </tr>\n",
       "    <tr>\n",
       "      <th>2</th>\n",
       "      <td>7</td>\n",
       "      <td>11</td>\n",
       "    </tr>\n",
       "    <tr>\n",
       "      <th>3</th>\n",
       "      <td>10</td>\n",
       "      <td>10</td>\n",
       "    </tr>\n",
       "    <tr>\n",
       "      <th>4</th>\n",
       "      <td>8</td>\n",
       "      <td>11</td>\n",
       "    </tr>\n",
       "  </tbody>\n",
       "</table>\n",
       "</div>"
      ],
      "text/plain": [
       "   Males  Females\n",
       "0     12       11\n",
       "1      7       10\n",
       "2      7       11\n",
       "3     10       10\n",
       "4      8       11"
      ]
     },
     "execution_count": 28,
     "metadata": {},
     "output_type": "execute_result"
    }
   ],
   "source": [
    "import numpy as np\n",
    "import pandas as pd\n",
    "\n",
    "males = [12, 7, 7, 10, 8, 10, 11, 9, 9, 13, 4, 9, 12, 11, 9, 9, 7, 12, 10, 13, \n",
    "         11, 10, 6, 12, 11, 9, 10, 12, 8, 9, 13, 10, 9, 7, 10, 7, 10, 8, 11, 10, \n",
    "         11, 7, 15, 8, 9, 9, 11, 13, 10, 13]\n",
    "females = [11, 10, 11, 10, 11, 12, 12, 10, 9, 9, 9, 10, 8, 7, 12, 9, 7, 8, 9, 8, \n",
    "           7, 7, 9, 9, 12, 10, 9, 13, 9, 9, 10, 9, 6, 12, 8, 11, 8, 8, 11, 12, \n",
    "           9, 10, 11, 14, 12, 7, 11, 10, 9, 11]\n",
    "\n",
    "table = np.column_stack((males,females))\n",
    "\n",
    "df = pd.DataFrame(table, columns=['Males','Females'])\n",
    "\n",
    "df.head()"
   ]
  },
  {
   "cell_type": "code",
   "execution_count": 30,
   "id": "5c9c28f9-1cb6-491c-8973-8c68c1645327",
   "metadata": {},
   "outputs": [
    {
     "data": {
      "text/plain": [
       "(9.82, 2.154160663289836, 9.7, 1.7756861278080076)"
      ]
     },
     "execution_count": 30,
     "metadata": {},
     "output_type": "execute_result"
    }
   ],
   "source": [
    "mean_males = np.mean(males)\n",
    "mean_females = np.mean(females)\n",
    "std_males = np.std(males, ddof=1)\n",
    "std_females = np.std(females, ddof=1)\n",
    "\n",
    "mean_males, std_males, mean_females, std_females"
   ]
  },
  {
   "cell_type": "markdown",
   "id": "7719bfc8-dd78-43f7-97af-47460cc567d6",
   "metadata": {},
   "source": [
    "(10 Points) 1. Formulate and present the rationale for a hypothesis test that the researcher could use to compare the mean time spent on cell phones by male and female college students per week."
   ]
  },
  {
   "cell_type": "markdown",
   "id": "e970ac61-8fcc-4f0d-bbcf-3b49ac0b02b2",
   "metadata": {},
   "source": [
    "#### Hypotheses\n",
    "- **Null Hypothesis** ($H_{0}$): There is no difference in the mean time spent on cellphones by male and female students, i.e., $μ_{1}$ = $μ_{2}$, where $μ_{1}$, is the mean for males and $μ_{2}$ is the mean for females.\n",
    "- **Alternative Hypothesis** ($H_{1}$): There is a difference in the meantime spent on cell phones by male and female students, i.e. $μ_{1}$ $\\neq$ $μ_{2}$.\n",
    "\n",
    "This is a two-tailed test to detect whether it is that males spend more or less time than females.\n",
    "\n",
    "A significance level (α) of 0.05 is typically chosen so that there is a 5% risk of rejecting the null hypothesis when it is actually true\n",
    "\n",
    "We will use a two-sample t-test since we have two independent samples (Males and Females).\n",
    "\n",
    "Additionally, given that we cannot assume equal variances for the two groups, we should perform **Welch's t-test**, which adjusts for unequal variances.\n",
    "\n",
    "##### To make the decision of rejecting the null hypothosis or not:\n",
    "- If p $\\geq$ α, reject the null hypothesis and conclude that there is a significant difference in mean time.\n",
    "- If p > α, fail to reject the null hypothesis and conclude there is no significant evidence of a difference."
   ]
  },
  {
   "cell_type": "code",
   "execution_count": 22,
   "id": "6394d611-b36d-4b46-9423-0350b0238bd4",
   "metadata": {},
   "outputs": [
    {
     "data": {
      "text/plain": [
       "{'Null Hypothesis (H0)': 'μ1 = μ2 (No difference in mean time spent on cell phones)',\n",
       " 'Alternative Hypothesis (H1)': 'μ1 ≠ μ2 (There is a difference in mean time spent on cell phones)',\n",
       " 'Test Type': \"Two-sample t-test (Welch's t-test)\",\n",
       " 'Significance Level (α)': 0.05,\n",
       " 't-Statistic': 0.30394907866566184,\n",
       " 'p-Value': 0.7618345408177143,\n",
       " 'Decision': 'Fail to reject the null hypothesis (H0). There is no significant evidence of a difference in the mean time spent on cell phones between males and females.'}"
      ]
     },
     "execution_count": 22,
     "metadata": {},
     "output_type": "execute_result"
    }
   ],
   "source": [
    "from scipy.stats import ttest_ind\n",
    "\n",
    "def hypothesis_test_rationale(male_data, female_data, alpha=0.05):\n",
    "    \n",
    "    t_stat, p_value = ttest_ind(male_data, female_data, equal_var=False)  # Welch's t-test\n",
    "    \n",
    "    if p_value < alpha:\n",
    "        decision = \"Reject the null hypothesis (H0). There is a significant difference in the mean time spent on cell phones between males and females.\"\n",
    "    else:\n",
    "        decision = \"Fail to reject the null hypothesis (H0). There is no significant evidence of a difference in the mean time spent on cell phones between males and females.\"\n",
    "    \n",
    "    # Rationale output\n",
    "    rationale = {\n",
    "        \"Null Hypothesis (H0)\": \"μ1 = μ2 (No difference in mean time spent on cell phones)\",\n",
    "        \"Alternative Hypothesis (H1)\": \"μ1 ≠ μ2 (There is a difference in mean time spent on cell phones)\",\n",
    "        \"Test Type\": \"Two-sample t-test (Welch's t-test)\",\n",
    "        \"Significance Level (α)\": alpha,\n",
    "        \"t-Statistic\": t_stat,\n",
    "        \"p-Value\": p_value,\n",
    "        \"Decision\": decision\n",
    "    }\n",
    "    return rationale\n",
    "\n",
    "test_rationale = hypothesis_test_rationale(males, females)\n",
    "test_rationale"
   ]
  },
  {
   "cell_type": "markdown",
   "id": "4bb99431-5576-4d48-a13e-cfc0252d0536",
   "metadata": {},
   "source": [
    "**Decision**:  Since the p-value (0.762) is greater than the significance level (0.05), we fail to reject the null hypothesis. This indicates that there is no significant evidence to suggest a difference in the mean time spent on cell phones between male and female college students."
   ]
  },
  {
   "cell_type": "markdown",
   "id": "2a7f7e5a-2d47-4135-aab4-82ca2a121682",
   "metadata": {},
   "source": [
    "(30 points) 2. Analyze the data to provide the hypothesis testing conclusion. What is the p-value for your test? What is your recommendation for the researcher?"
   ]
  },
  {
   "cell_type": "markdown",
   "id": "d4e9746e-cd4f-4af9-9274-947af4bdf632",
   "metadata": {},
   "source": [
    "#### Analysis:\n",
    "1. **p-value**:\n",
    "- The calculated p-value for the two-sample t-test (Welch's t-test) is **0.762**.\n",
    "2. **Interpretation**:\n",
    "- The p-value represents the probability of observing a test statistic as extreme as, or more extreme than, the one calculated, assuming the null hypothesis is true. In this case, the p-value of 0.762 is much higher than the significance level 0f 0.05.\n",
    "\n",
    "#### Recommendation:\n",
    "Since the p-value (0.762) is **greater than** the significants level (0.05), the **null hypothesis cannot be rejected**. This implies that there is **no statistically significant difference** in the mean time spent on cellphones between male and female college students at Midwestern University.\n",
    "\n",
    "The recommendation for the researcher is to conclude that the data do not provide sufficient evidence to suggest a difference in cellphone usage time between the two groups. if further investigation is desired, the researcher could consider a larger sample size or additional variable that might influence cell phone usage."
   ]
  },
  {
   "cell_type": "markdown",
   "id": "e81d660e-df82-4faa-97fa-8fd68060eade",
   "metadata": {},
   "source": [
    "(10 points) 3. Provide descriptive statistical summaries of the data for each gender category."
   ]
  },
  {
   "cell_type": "code",
   "execution_count": 38,
   "id": "587c3b7a-0d59-4ad1-b6b1-a64f60281545",
   "metadata": {},
   "outputs": [
    {
     "data": {
      "text/html": [
       "<div>\n",
       "<style scoped>\n",
       "    .dataframe tbody tr th:only-of-type {\n",
       "        vertical-align: middle;\n",
       "    }\n",
       "\n",
       "    .dataframe tbody tr th {\n",
       "        vertical-align: top;\n",
       "    }\n",
       "\n",
       "    .dataframe thead th {\n",
       "        text-align: right;\n",
       "    }\n",
       "</style>\n",
       "<table border=\"1\" class=\"dataframe\">\n",
       "  <thead>\n",
       "    <tr style=\"text-align: right;\">\n",
       "      <th></th>\n",
       "      <th>0</th>\n",
       "      <th>1</th>\n",
       "    </tr>\n",
       "  </thead>\n",
       "  <tbody>\n",
       "    <tr>\n",
       "      <th>Gender</th>\n",
       "      <td>Males</td>\n",
       "      <td>Females</td>\n",
       "    </tr>\n",
       "    <tr>\n",
       "      <th>Mean</th>\n",
       "      <td>9.82</td>\n",
       "      <td>9.7</td>\n",
       "    </tr>\n",
       "    <tr>\n",
       "      <th>Standard Deviation</th>\n",
       "      <td>2.154161</td>\n",
       "      <td>1.775686</td>\n",
       "    </tr>\n",
       "    <tr>\n",
       "      <th>Minimum</th>\n",
       "      <td>4</td>\n",
       "      <td>6</td>\n",
       "    </tr>\n",
       "    <tr>\n",
       "      <th>Maximum</th>\n",
       "      <td>15</td>\n",
       "      <td>14</td>\n",
       "    </tr>\n",
       "    <tr>\n",
       "      <th>Count</th>\n",
       "      <td>50</td>\n",
       "      <td>50</td>\n",
       "    </tr>\n",
       "    <tr>\n",
       "      <th>Median</th>\n",
       "      <td>10.0</td>\n",
       "      <td>9.5</td>\n",
       "    </tr>\n",
       "    <tr>\n",
       "      <th>25th Percentile</th>\n",
       "      <td>9.0</td>\n",
       "      <td>9.0</td>\n",
       "    </tr>\n",
       "    <tr>\n",
       "      <th>75th Percentile</th>\n",
       "      <td>11.0</td>\n",
       "      <td>11.0</td>\n",
       "    </tr>\n",
       "  </tbody>\n",
       "</table>\n",
       "</div>"
      ],
      "text/plain": [
       "                           0         1\n",
       "Gender                 Males   Females\n",
       "Mean                    9.82       9.7\n",
       "Standard Deviation  2.154161  1.775686\n",
       "Minimum                    4         6\n",
       "Maximum                   15        14\n",
       "Count                     50        50\n",
       "Median                  10.0       9.5\n",
       "25th Percentile          9.0       9.0\n",
       "75th Percentile         11.0      11.0"
      ]
     },
     "execution_count": 38,
     "metadata": {},
     "output_type": "execute_result"
    }
   ],
   "source": [
    "data = {\n",
    "    \"Gender\": [\"Males\", \"Females\"],\n",
    "    \"Mean\": [np.mean(males), np.mean(females)],\n",
    "    \"Standard Deviation\": [np.std(males, ddof=1), np.std(females, ddof=1)],\n",
    "    \"Minimum\": [np.min(males), np.min(females)],\n",
    "    \"Maximum\": [np.max(males), np.max(females)],\n",
    "    \"Count\": [len(males), len(females)],\n",
    "    \"Median\": [np.median(males), np.median(females)],\n",
    "    \"25th Percentile\": [np.percentile(males, 25), np.percentile(females, 25)],\n",
    "    \"75th Percentile\": [np.percentile(males, 75), np.percentile(females, 75)],\n",
    "}\n",
    "\n",
    "# Convert to DataFrame\n",
    "descriptive_stats_df = pd.DataFrame(data)\n",
    "descriptive_stats_df.transpose()\n"
   ]
  },
  {
   "cell_type": "markdown",
   "id": "4aad75fc-a2f3-44ed-97f4-2c0f224cff28",
   "metadata": {},
   "source": [
    "(10 points) 4. What is the 95% confidence interval for the population mean of each gender category, and what is the 95% confidence interval for the difference between the means of the two populations?"
   ]
  },
  {
   "cell_type": "code",
   "execution_count": 74,
   "id": "eef9e070-1f6a-4fc7-a505-9f29bd42f4c3",
   "metadata": {},
   "outputs": [
    {
     "name": "stdout",
     "output_type": "stream",
     "text": [
      "The 95% confidence interval for the population of each gender category\n",
      "\u001b[1mMales : \u001b[0;0m (9.207794313260433, 10.432205686739568)\n",
      "\u001b[1mFemales : \u001b[0;0m (9.195355586129574, 10.204644413870424)\n",
      "\n",
      "The 95% confidence interval for the difference between the means of the two populations\n",
      "\u001b[1mCI_Diff : \u001b[0;0m (-0.6733862787614163, 0.9133862787614183)\n"
     ]
    }
   ],
   "source": [
    "from scipy.stats import t\n",
    "\n",
    "# Mean, Standard Deviation for both Males and Females was done above.\n",
    "\n",
    "n_males = len(males)\n",
    "n_females = len(females)\n",
    "\n",
    "df_males = n_males - 1\n",
    "df_females = n_females - 1\n",
    "\n",
    "alpha = 0.05\n",
    "t_critical_males = t.ppf(1 - alpha/2, df_males)\n",
    "t_critical_females = t.ppf(1 - alpha/2, df_females)\n",
    "\n",
    "margin_error_males = t_critical_males * (std_males / np.sqrt(n_males))\n",
    "ci_males = (mean_males - margin_error_males, mean_males + margin_error_males)\n",
    "\n",
    "margin_error_females = t_critical_females * (std_females / np.sqrt(n_females))\n",
    "ci_females = (mean_females - margin_error_females, mean_females + margin_error_females)\n",
    "\n",
    "# Confidence interval for the difference between means\n",
    "pooled_se = np.sqrt((std_males**2 / n_males) + (std_females**2 / n_females))\n",
    "df_diff = min(df_males, df_females)\n",
    "t_critical_diff = t.ppf(1 - alpha/2, df_diff)\n",
    "margin_error_diff = t_critical_diff * pooled_se\n",
    "ci_diff = ((mean_males - mean_females) - margin_error_diff, (mean_males - mean_females) + margin_error_diff)\n",
    "\n",
    "#for printing\n",
    "print(\"The 95% confidence interval for the population of each gender category\")\n",
    "print(\"\\033[1m\" + \"Males : \" + f\"\\033[0;0m {ci_males}\")\n",
    "print(\"\\033[1m\" + \"Females : \" + f\"\\033[0;0m {ci_females}\")\n",
    "print()\n",
    "\n",
    "print(\"The 95% confidence interval for the difference between the means of the two populations\")\n",
    "print('\\033[1m' + \"CI_Diff : \" + f\"\\033[0;0m {ci_diff}\")"
   ]
  },
  {
   "cell_type": "markdown",
   "id": "90f1bc7d-d727-47b9-9cd7-0c9b669d0a2e",
   "metadata": {},
   "source": [
    "(20 points) 5. Do you see a need for larger sample sizes and more testing with the time spent on cell phones? Discuss."
   ]
  },
  {
   "cell_type": "markdown",
   "id": "f9c06ae4-908c-47e8-a512-519bd73b9ac1",
   "metadata": {},
   "source": [
    "#### YES\n",
    "\n",
    "There is a case to be made for larger samples sizes and further testing regarding the time spent on cellphones with the following:\n",
    "1. **Current Sample Size Limitations**\n",
    "\n",
    "With only 50 male and 50 female participants, the sample size is not large enough (as per the recommendations earlier) to detect small but meaningful differences in cell phone usage between genders. Small sample sizes reduce the statistical power of a test, making it harder to find significant differences even if they exist\n",
    "\n",
    "A larger sample size could provide a more reliable estimate of the population parameters (mean and standard deviation) and improve the generalizability of the results.\n",
    "\n",
    "2. **High p-value in current testing**\n",
    "\n",
    "As per the computations above, the hypothesis resulted in a high p-value, indicating a lack of significant evidence to reject the null hypothesis. This could suggest that the difference in cell phone usage is indeed minimal, or it might be due to the sample size being insufficient to detect a real difference.\n",
    "\n",
    "Increasing the sample size could lower the standard error, potentially revealing statistically significant differences that weren't apparent in this study.\n",
    "\n",
    "3. **Potential for Confounding Variables**\n",
    "\n",
    "There could be other factors influencing cellphone usage such as *academic workload, social habits, or extracurricular activities*, which were not accounted for in this study.\n",
    "\n",
    "More testing, with a focus on controlling for these said variables, could help clarify whether the observed lack of significant difference is consistent across different groups (by gender) or influenced by other factors.\n",
    "\n",
    "With the cases and recommendations, these could help validate the findings that were not apparent in this initial study."
   ]
  },
  {
   "cell_type": "markdown",
   "id": "e4f9d7f4-e424-4950-8c74-3f6523dff7b7",
   "metadata": {},
   "source": [
    "(20 points) 6. Make a report including the testing of the assumptions for two independent samples t-test."
   ]
  },
  {
   "cell_type": "markdown",
   "id": "1cd63e64-a92a-45cc-bb69-4031087b531a",
   "metadata": {},
   "source": [
    "#### Report\n",
    "\n",
    "Going back to the **Hypotheses**:\n",
    "- **Null Hypothesis** ($H_{0}$): There is no difference in the mean time spent on cellphones by male and female students ($μ_{1}$ = $μ_{2}$).\n",
    "- **Alternative Hypothesis** ($H_{1}$): There is a difference in the meantime spent on cell phones by male and female students ($μ_{1}$ $\\neq$ $μ_{2}$).\n",
    "\n",
    "Now, **Testing assumptions for the two-sample t-test**:\n",
    "\n",
    "In order to conduct a two-sample t-test, certain assumptions must be met as the following:\n",
    "\n",
    "a. **Independence of Observations**\n",
    "\n",
    "The samples (male and female) are independent of ecah other. The time spent on cellphones by one student does not influence the time spent by another, meeting the assumption of independece.\n",
    "\n",
    "b. **Normality of the Distribution**\n",
    "\n",
    "Look for the visualization and statistical test below."
   ]
  },
  {
   "cell_type": "code",
   "execution_count": 83,
   "id": "c82af8eb-8199-4e3c-bc44-da564c886296",
   "metadata": {},
   "outputs": [
    {
     "data": {
      "image/png": "[encoded data removed]",
      "text/plain": [
       "<Figure size 1200x500 with 2 Axes>"
      ]
     },
     "metadata": {},
     "output_type": "display_data"
    },
    {
     "data": {
      "image/png": "[encoded data removed]",
      "text/plain": [
       "<Figure size 1200x500 with 2 Axes>"
      ]
     },
     "metadata": {},
     "output_type": "display_data"
    },
    {
     "name": "stdout",
     "output_type": "stream",
     "text": [
      "Shapiro-Wilk Test for Males: W = 0.9746539794869001 , p-value = 0.3539889622001458\n",
      "Shapiro-Wilk Test for Females: W = 0.9638767847871548 , p-value = 0.12919719507959687\n"
     ]
    }
   ],
   "source": [
    "import matplotlib.pyplot as plt\n",
    "import scipy.stats as stats\n",
    "\n",
    "df = pd.DataFrame({'Males': males, 'Females': females})\n",
    "\n",
    "plt.figure(figsize=(12, 5))\n",
    "plt.subplot(1, 2, 1)\n",
    "plt.hist(df['Males'], bins=10, color='blue', alpha=0.7)\n",
    "plt.title('Histogram of Males\\' Cell Phone Usage')\n",
    "plt.xlabel('Hours')\n",
    "plt.ylabel('Frequency')\n",
    "\n",
    "plt.subplot(1, 2, 2)\n",
    "plt.hist(df['Females'], bins=10, color='green', alpha=0.7)\n",
    "plt.title('Histogram of Females\\' Cell Phone Usage')\n",
    "plt.xlabel('Hours')\n",
    "plt.ylabel('Frequency')\n",
    "\n",
    "plt.tight_layout()\n",
    "plt.show()\n",
    "\n",
    "plt.figure(figsize=(12, 5))\n",
    "plt.subplot(1, 2, 1)\n",
    "stats.probplot(df['Males'], dist=\"norm\", plot=plt)\n",
    "plt.title('Q-Q Plot for Males')\n",
    "\n",
    "plt.subplot(1, 2, 2)\n",
    "stats.probplot(df['Females'], dist=\"norm\", plot=plt)\n",
    "plt.title('Q-Q Plot for Females')\n",
    "\n",
    "plt.tight_layout()\n",
    "plt.show()\n",
    "\n",
    "shapiro_males = stats.shapiro(df['Males'])\n",
    "shapiro_females = stats.shapiro(df['Females'])\n",
    "\n",
    "print(\"Shapiro-Wilk Test for Males: W =\", shapiro_males.statistic, \", p-value =\", shapiro_males.pvalue)\n",
    "print(\"Shapiro-Wilk Test for Females: W =\", shapiro_females.statistic, \", p-value =\", shapiro_females.pvalue)"
   ]
  },
  {
   "cell_type": "markdown",
   "id": "500c54a6-212c-45d5-8489-e9e17177faea",
   "metadata": {},
   "source": [
    "c. **Equality of Variances (Homogeneity of Variance)**\n",
    "\n",
    "Since the variances are not equal, we would use Welch's test, which does not assume equal variances."
   ]
  },
  {
   "cell_type": "markdown",
   "id": "c06db08a-b8c3-455b-a3d3-caa3ad65b12a",
   "metadata": {},
   "source": [
    "Using the two-sample t-test:\n",
    "- **t-statistic:** 0.304\n",
    "- **p-value:** 0.762\n",
    "\n",
    "Since the p-value (0.762) is higher than the significance level of 0.05, we fail to reject the null hypothesis. This indicates that there is no statistically significant difference in the mean time spent on cell phones between male and female students.\n",
    "\n",
    "As per full analyses from different questions above, the concised recommendations are:\n",
    "- Further testing (increase the sample size)\n",
    "- Control for other factors"
   ]
  }
 ],
 "metadata": {
  "kernelspec": {
   "display_name": "Python 3 (ipykernel)",
   "language": "python",
   "name": "python3"
  },
  "language_info": {
   "codemirror_mode": {
    "name": "ipython",
    "version": 3
   },
   "file_extension": ".py",
   "mimetype": "text/x-python",
   "name": "python",
   "nbconvert_exporter": "python",
   "pygments_lexer": "ipython3",
   "version": "3.12.3"
  }
 },
 "nbformat": 4,
 "nbformat_minor": 5
}
